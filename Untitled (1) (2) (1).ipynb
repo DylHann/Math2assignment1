{
 "cells": [
  {
   "cell_type": "markdown",
   "id": "d168ea33",
   "metadata": {},
   "source": [
    "# Investigating The Health Factors That Result in Heart Failure\n",
    "\n",
    "### Group 106\n",
    "### Dylan Hann s3719281\n",
    "### Edward Pearson s3844470"
   ]
  },
  {
   "cell_type": "markdown",
   "id": "ebdbc93d",
   "metadata": {},
   "source": [
    "## Table of Contents\n",
    "- [introduction](#intro)\n",
    " + [Dataset Source](#source)\n",
    " + [Dataset Details](#details)\n",
    " + [Dataset Features](#features)\n",
    " + [Target Feature](#target)\n",
    "- [Goals and Objectives](#goals)\n",
    "- [Data Cleaning and Preprocessing](#data)\n",
    "- [References](#reference)"
   ]
  },
  {
   "cell_type": "markdown",
   "id": "acd9528e",
   "metadata": {},
   "source": [
    "## Introduction<a id='intro'></a>\n",
    "### Dataset Source<a id='source'></a>"
   ]
  },
  {
   "cell_type": "markdown",
   "id": "509ec61f",
   "metadata": {},
   "source": [
    "the dataset was obtained from the RMIT github math 2 dataset repository provided for this assignment."
   ]
  },
  {
   "cell_type": "markdown",
   "id": "6ab59439",
   "metadata": {},
   "source": [
    "## Dataset details<a id='details'></a>"
   ]
  },
  {
   "cell_type": "markdown",
   "id": "f75749fe",
   "metadata": {},
   "source": [
    "This data source contains health information on patients who experienced heart failure regardless of whether they survived the event.The data set has 299 rows each representing a patient, it has 13 columns each representing health factor."
   ]
  },
  {
   "cell_type": "markdown",
   "id": "c36b26e8",
   "metadata": {},
   "source": [
    "### Data Features <a id='features'></a>"
   ]
  },
  {
   "cell_type": "markdown",
   "id": "4b9ae765",
   "metadata": {},
   "source": [
    "|Name|Data Type|Units|Description|\n",
    "|--|--|--|--|\n",
    "|age|discrete |Years|the age of the patient when the heart failure occurred|\n",
    "|anaemia|nominal catergorical|0 (false), 1(true)|States whether the patient is anaemic|\n",
    "|diabetes|nominal catergorical|0 (false), 1(true)|states whether the patient had diabetes|\n",
    "|high_blood_pressure|nominal catergorical|0 (false), 1(true)|states whether the patient had high blood pressure|\n",
    "|platelets|continous |platelets per cubic millimeter| platelet count|\n",
    "|serum_creatinine|continous|milligrams of creatinine to a deciliter of blood mg/dL|High levels of serum creatinine have been linked to increased mortality in cardiovascular disease|\n",
    "|serum_sodium|discrete |milliequivalent per liter mEq/L| a low serum sodium level is one of the most common biomedical disorders featured in heart failure patients|\n",
    "|sex|catergorical |male(1) or female(0)| specifies if the patient is male or female|\n",
    "|smoking|catergorical | 0(false), 1(true)|Specifies if the patient is a smoker or a non smoker |\n",
    "|creatinine_phosphokinase|discrete |amount of enzyme that catalyzes in one mol of substrate IU/L|elevated levels of the enzyme creatinine phosphokinase is seen in heart attack victims|"
   ]
  },
  {
   "cell_type": "markdown",
   "id": "da46af17",
   "metadata": {},
   "source": [
    "### Target Feature<a id='target'></a>"
   ]
  },
  {
   "cell_type": "markdown",
   "id": "25c568bb",
   "metadata": {},
   "source": [
    "The target feature is the death event_event variable, which is described by death occurring or not during the heart failure event. The death event will be predicted using the other features on the table. "
   ]
  },
  {
   "cell_type": "markdown",
   "id": "cfee8679",
   "metadata": {},
   "source": [
    "# Goals and Objectives<a id='goals'></a>\n"
   ]
  },
  {
   "cell_type": "markdown",
   "id": "f8d05f48",
   "metadata": {},
   "source": [
    "Heart Failure is a prevalent issue for a vast amount of the global population. As a result, a model that can accurately show the correlation between factors like Age, Diabetes, High Blood Pressure and Smoking with dying of heart failure is hugely impactful. \n",
    "\n",
    "Thus the main objective of this study is to examine and explore the correlation between the many potential factors that impact heart failure and the death rate related to them and thus build a predictive model using that correlation. The secondary objective is to complete some basic data analysis using data visualization plots to gain insight on the correlation and relationship between our attributes and our target variable, death event.\n",
    "\n",
    "At this point we have made the assumption that the rows in our data set are not correlated. This is reasonable as 1 persons age, diabetes status and smoking status do not relate to another persons. This allows us to perform linear regression on the data down the track to help us with our modeling.\n",
    "\n"
   ]
  },
  {
   "cell_type": "markdown",
   "id": "dc5de751",
   "metadata": {},
   "source": [
    "## Data Cleaning and Preprocessing<a id='data'></a>"
   ]
  },
  {
   "cell_type": "code",
   "execution_count": 2,
   "id": "7b67f394",
   "metadata": {
    "scrolled": true
   },
   "outputs": [
    {
     "data": {
      "text/html": [
       "<div>\n",
       "<style scoped>\n",
       "    .dataframe tbody tr th:only-of-type {\n",
       "        vertical-align: middle;\n",
       "    }\n",
       "\n",
       "    .dataframe tbody tr th {\n",
       "        vertical-align: top;\n",
       "    }\n",
       "\n",
       "    .dataframe thead th {\n",
       "        text-align: right;\n",
       "    }\n",
       "</style>\n",
       "<table border=\"1\" class=\"dataframe\">\n",
       "  <thead>\n",
       "    <tr style=\"text-align: right;\">\n",
       "      <th></th>\n",
       "      <th>age</th>\n",
       "      <th>anaemia</th>\n",
       "      <th>creatinine_phosphokinase</th>\n",
       "      <th>diabetes</th>\n",
       "      <th>ejection_fraction</th>\n",
       "      <th>high_blood_pressure</th>\n",
       "      <th>platelets</th>\n",
       "      <th>serum_creatinine</th>\n",
       "      <th>serum_sodium</th>\n",
       "      <th>sex</th>\n",
       "      <th>smoking</th>\n",
       "      <th>time</th>\n",
       "      <th>DEATH_EVENT</th>\n",
       "    </tr>\n",
       "  </thead>\n",
       "  <tbody>\n",
       "    <tr>\n",
       "      <th>84</th>\n",
       "      <td>59.0</td>\n",
       "      <td>1</td>\n",
       "      <td>280</td>\n",
       "      <td>1</td>\n",
       "      <td>25</td>\n",
       "      <td>1</td>\n",
       "      <td>302000.00</td>\n",
       "      <td>1.00</td>\n",
       "      <td>141</td>\n",
       "      <td>0</td>\n",
       "      <td>0</td>\n",
       "      <td>78</td>\n",
       "      <td>1</td>\n",
       "    </tr>\n",
       "    <tr>\n",
       "      <th>121</th>\n",
       "      <td>66.0</td>\n",
       "      <td>1</td>\n",
       "      <td>68</td>\n",
       "      <td>1</td>\n",
       "      <td>38</td>\n",
       "      <td>1</td>\n",
       "      <td>162000.00</td>\n",
       "      <td>1.00</td>\n",
       "      <td>136</td>\n",
       "      <td>0</td>\n",
       "      <td>0</td>\n",
       "      <td>95</td>\n",
       "      <td>0</td>\n",
       "    </tr>\n",
       "    <tr>\n",
       "      <th>128</th>\n",
       "      <td>61.0</td>\n",
       "      <td>0</td>\n",
       "      <td>248</td>\n",
       "      <td>0</td>\n",
       "      <td>30</td>\n",
       "      <td>1</td>\n",
       "      <td>267000.00</td>\n",
       "      <td>0.70</td>\n",
       "      <td>136</td>\n",
       "      <td>1</td>\n",
       "      <td>1</td>\n",
       "      <td>104</td>\n",
       "      <td>0</td>\n",
       "    </tr>\n",
       "    <tr>\n",
       "      <th>140</th>\n",
       "      <td>80.0</td>\n",
       "      <td>0</td>\n",
       "      <td>805</td>\n",
       "      <td>0</td>\n",
       "      <td>38</td>\n",
       "      <td>0</td>\n",
       "      <td>263358.03</td>\n",
       "      <td>1.10</td>\n",
       "      <td>134</td>\n",
       "      <td>1</td>\n",
       "      <td>0</td>\n",
       "      <td>109</td>\n",
       "      <td>1</td>\n",
       "    </tr>\n",
       "    <tr>\n",
       "      <th>238</th>\n",
       "      <td>65.0</td>\n",
       "      <td>1</td>\n",
       "      <td>720</td>\n",
       "      <td>1</td>\n",
       "      <td>40</td>\n",
       "      <td>0</td>\n",
       "      <td>257000.00</td>\n",
       "      <td>1.00</td>\n",
       "      <td>136</td>\n",
       "      <td>0</td>\n",
       "      <td>0</td>\n",
       "      <td>210</td>\n",
       "      <td>0</td>\n",
       "    </tr>\n",
       "    <tr>\n",
       "      <th>167</th>\n",
       "      <td>59.0</td>\n",
       "      <td>0</td>\n",
       "      <td>66</td>\n",
       "      <td>1</td>\n",
       "      <td>20</td>\n",
       "      <td>0</td>\n",
       "      <td>70000.00</td>\n",
       "      <td>2.40</td>\n",
       "      <td>134</td>\n",
       "      <td>1</td>\n",
       "      <td>0</td>\n",
       "      <td>135</td>\n",
       "      <td>1</td>\n",
       "    </tr>\n",
       "    <tr>\n",
       "      <th>187</th>\n",
       "      <td>60.0</td>\n",
       "      <td>0</td>\n",
       "      <td>1896</td>\n",
       "      <td>1</td>\n",
       "      <td>25</td>\n",
       "      <td>0</td>\n",
       "      <td>365000.00</td>\n",
       "      <td>2.10</td>\n",
       "      <td>144</td>\n",
       "      <td>0</td>\n",
       "      <td>0</td>\n",
       "      <td>172</td>\n",
       "      <td>1</td>\n",
       "    </tr>\n",
       "    <tr>\n",
       "      <th>257</th>\n",
       "      <td>58.0</td>\n",
       "      <td>0</td>\n",
       "      <td>132</td>\n",
       "      <td>1</td>\n",
       "      <td>38</td>\n",
       "      <td>1</td>\n",
       "      <td>253000.00</td>\n",
       "      <td>1.00</td>\n",
       "      <td>139</td>\n",
       "      <td>1</td>\n",
       "      <td>0</td>\n",
       "      <td>230</td>\n",
       "      <td>0</td>\n",
       "    </tr>\n",
       "    <tr>\n",
       "      <th>153</th>\n",
       "      <td>50.0</td>\n",
       "      <td>0</td>\n",
       "      <td>1846</td>\n",
       "      <td>1</td>\n",
       "      <td>35</td>\n",
       "      <td>0</td>\n",
       "      <td>263358.03</td>\n",
       "      <td>1.18</td>\n",
       "      <td>137</td>\n",
       "      <td>1</td>\n",
       "      <td>1</td>\n",
       "      <td>119</td>\n",
       "      <td>0</td>\n",
       "    </tr>\n",
       "    <tr>\n",
       "      <th>113</th>\n",
       "      <td>70.0</td>\n",
       "      <td>1</td>\n",
       "      <td>143</td>\n",
       "      <td>0</td>\n",
       "      <td>60</td>\n",
       "      <td>0</td>\n",
       "      <td>351000.00</td>\n",
       "      <td>1.30</td>\n",
       "      <td>137</td>\n",
       "      <td>0</td>\n",
       "      <td>0</td>\n",
       "      <td>90</td>\n",
       "      <td>1</td>\n",
       "    </tr>\n",
       "  </tbody>\n",
       "</table>\n",
       "</div>"
      ],
      "text/plain": [
       "      age  anaemia  creatinine_phosphokinase  diabetes  ejection_fraction  \\\n",
       "84   59.0        1                       280         1                 25   \n",
       "121  66.0        1                        68         1                 38   \n",
       "128  61.0        0                       248         0                 30   \n",
       "140  80.0        0                       805         0                 38   \n",
       "238  65.0        1                       720         1                 40   \n",
       "167  59.0        0                        66         1                 20   \n",
       "187  60.0        0                      1896         1                 25   \n",
       "257  58.0        0                       132         1                 38   \n",
       "153  50.0        0                      1846         1                 35   \n",
       "113  70.0        1                       143         0                 60   \n",
       "\n",
       "     high_blood_pressure  platelets  serum_creatinine  serum_sodium  sex  \\\n",
       "84                     1  302000.00              1.00           141    0   \n",
       "121                    1  162000.00              1.00           136    0   \n",
       "128                    1  267000.00              0.70           136    1   \n",
       "140                    0  263358.03              1.10           134    1   \n",
       "238                    0  257000.00              1.00           136    0   \n",
       "167                    0   70000.00              2.40           134    1   \n",
       "187                    0  365000.00              2.10           144    0   \n",
       "257                    1  253000.00              1.00           139    1   \n",
       "153                    0  263358.03              1.18           137    1   \n",
       "113                    0  351000.00              1.30           137    0   \n",
       "\n",
       "     smoking  time  DEATH_EVENT  \n",
       "84         0    78            1  \n",
       "121        0    95            0  \n",
       "128        1   104            0  \n",
       "140        0   109            1  \n",
       "238        0   210            0  \n",
       "167        0   135            1  \n",
       "187        0   172            1  \n",
       "257        0   230            0  \n",
       "153        1   119            0  \n",
       "113        0    90            1  "
      ]
     },
     "execution_count": 2,
     "metadata": {},
     "output_type": "execute_result"
    }
   ],
   "source": [
    "import pandas as pd\n",
    "import numpy as np \n",
    "import matplotlib.pyplot as plt\n",
    "hf = pd.read_csv(\"heart_failure.csv\")\n",
    "hf.sample(10, random_state=800)"
   ]
  },
  {
   "cell_type": "code",
   "execution_count": 12,
   "id": "2db12e0b",
   "metadata": {},
   "outputs": [
    {
     "data": {
      "text/plain": [
       "Index(['age', 'anaemia', 'creatinine_phosphokinase', 'diabetes',\n",
       "       'ejection_fraction', 'high_blood_pressure', 'platelets',\n",
       "       'serum_creatinine', 'serum_sodium', 'sex', 'smoking', 'DEATH_EVENT'],\n",
       "      dtype='object')"
      ]
     },
     "execution_count": 12,
     "metadata": {},
     "output_type": "execute_result"
    }
   ],
   "source": [
    "hf.columns\n",
    "# where is time?"
   ]
  },
  {
   "cell_type": "code",
   "execution_count": 8,
   "id": "17e12013",
   "metadata": {},
   "outputs": [
    {
     "name": "stdout",
     "output_type": "stream",
     "text": [
      "The number of missing values in each column\n",
      "age                         0\n",
      "anaemia                     0\n",
      "creatinine_phosphokinase    0\n",
      "diabetes                    0\n",
      "ejection_fraction           0\n",
      "high_blood_pressure         0\n",
      "platelets                   0\n",
      "serum_creatinine            0\n",
      "serum_sodium                0\n",
      "sex                         0\n",
      "smoking                     0\n",
      "DEATH_EVENT                 0\n",
      "dtype: int64\n"
     ]
    }
   ],
   "source": [
    "print(\"The number of missing values in each column\")\n",
    "print(hf.isnull().sum())"
   ]
  },
  {
   "cell_type": "code",
   "execution_count": 42,
   "id": "873189ea",
   "metadata": {},
   "outputs": [
    {
     "name": "stdout",
     "output_type": "stream",
     "text": [
      "9.4\n",
      "0.5\n",
      "Ranges from 0.2 mg/dL to a maximum level seen is 37mg/dL as seen in reference 1\n"
     ]
    }
   ],
   "source": [
    "# outliers\n",
    "print(hf['serum_creatinine'].max())\n",
    "print(hf['serum_creatinine'].min())\n",
    "print('Ranges from 0.2 mg/dL to a maximum level seen is 37mg/dL as seen in reference 1')"
   ]
  },
  {
   "cell_type": "code",
   "execution_count": 40,
   "id": "f0d010f8",
   "metadata": {},
   "outputs": [
    {
     "name": "stdout",
     "output_type": "stream",
     "text": [
      "850000.0\n",
      "25100.0\n",
      "25,000 is low but does occur\n",
      "850,000 is very high but does occur\n"
     ]
    }
   ],
   "source": [
    "print(hf['platelets'].max())\n",
    "print(hf['platelets'].min())\n",
    "\n",
    "print('25,000 is low but does occur')\n",
    "print('850,000 is very high but does occur')"
   ]
  },
  {
   "cell_type": "code",
   "execution_count": 39,
   "id": "dda597ec",
   "metadata": {},
   "outputs": [
    {
     "name": "stdout",
     "output_type": "stream",
     "text": [
      "7861\n",
      "23\n",
      "The body can have up to 20,000 IU/L\n",
      "Normal limit is 20-30 IU/L\n"
     ]
    }
   ],
   "source": [
    "print(hf['creatinine_phosphokinase'].max())\n",
    "print(hf['creatinine_phosphokinase'].min())\n",
    "print('The body can have up to 20,000 IU/L')\n",
    "print('Normal limit is 20-30 IU/L')"
   ]
  },
  {
   "cell_type": "code",
   "execution_count": 44,
   "id": "af499aa9",
   "metadata": {},
   "outputs": [
    {
     "name": "stdout",
     "output_type": "stream",
     "text": [
      "148\n",
      "113\n",
      "A serum sodium level of 148 mEq/L is slightly above normal ranges\n",
      "A serum sodium levek of 113 mEq/L is dangerously but still well within reasonable range\n"
     ]
    }
   ],
   "source": [
    "print(hf['serum_sodium'].max())\n",
    "print(hf['serum_sodium'].min())\n",
    "print('A serum sodium level of 148 mEq/L is slightly above normal ranges')\n",
    "print('A serum sodium levek of 113 mEq/L is dangerously but still well within reasonable range')"
   ]
  },
  {
   "cell_type": "code",
   "execution_count": 58,
   "id": "6b1e46ae",
   "metadata": {},
   "outputs": [
    {
     "name": "stdout",
     "output_type": "stream",
     "text": [
      "194\n",
      "105\n"
     ]
    }
   ],
   "source": [
    "print(hf['sex'][hf['sex'] == 1].count())\n",
    "print(hf['sex'][hf['sex'] == 0].count())\n",
    "# we can assume that the male are 1 because there are more 1s than zeros and generally there is a higher percentage of heartfailure in men"
   ]
  },
  {
   "cell_type": "code",
   "execution_count": 5,
   "id": "c1ea6487",
   "metadata": {},
   "outputs": [],
   "source": [
    "hf['sex'] = hf['sex'].replace({1:'M', 0:'F'})\n",
    "hf['DEATH_EVENT'] = hf['DEATH_EVENT'].replace({1:'True', 0:'False'})\n",
    "hf['diabetes'] = hf['diabetes'].replace({1:'True', 0:'False'})"
   ]
  },
  {
   "cell_type": "markdown",
   "id": "dc473240",
   "metadata": {},
   "source": [
    "## Data Exploration and Visualisation "
   ]
  },
  {
   "cell_type": "code",
   "execution_count": 6,
   "id": "476420a3",
   "metadata": {},
   "outputs": [
    {
     "data": {
      "text/plain": [
       "Text(0.5, 1.0, 'Count of Death Occuring Compared with Age')"
      ]
     },
     "execution_count": 6,
     "metadata": {},
     "output_type": "execute_result"
    },
    {
     "data": {
      "image/png": "[encoded data removed]",
      "text/plain": [
       "<Figure size 2880x720 with 1 Axes>"
      ]
     },
     "metadata": {
      "needs_background": "light"
     },
     "output_type": "display_data"
    }
   ],
   "source": [
    "import seaborn as sns\n",
    "\n",
    "plt.figure(figsize=(40,10))\n",
    "sns.countplot(x='age', hue='DEATH_EVENT', data=hf)\n",
    "plt.xlabel(\"Age\", fontsize=20)\n",
    "plt.ylabel(\"Death Count\", fontsize=20)\n",
    "plt.title(\"Count of Death Occuring Compared with Age\", fontsize=40)"
   ]
  },
  {
   "cell_type": "code",
   "execution_count": 10,
   "id": "8db66d48",
   "metadata": {},
   "outputs": [
    {
     "data": {
      "text/plain": [
       "<AxesSubplot:xlabel='diabetes', ylabel='count'>"
      ]
     },
     "execution_count": 10,
     "metadata": {},
     "output_type": "execute_result"
    },
    {
     "data": {
      "image/png": "[encoded data removed]",
      "text/plain": [
       "<Figure size 432x288 with 1 Axes>"
      ]
     },
     "metadata": {
      "needs_background": "light"
     },
     "output_type": "display_data"
    }
   ],
   "source": [
    "sns.countplot(x='diabetes', hue='DEATH_EVENT', data=hf)"
   ]
  },
  {
   "cell_type": "code",
   "execution_count": null,
   "id": "35b940ef",
   "metadata": {},
   "outputs": [],
   "source": []
  },
  {
   "cell_type": "markdown",
   "id": "4628385a",
   "metadata": {},
   "source": [
    "## References<a id='reference'></a>\n",
    "\n",
    "[1]. Asif AA, Hussain H, Chatterjee T. Cureus (8/7/2020), Extraordinary creatinine level: a case report. retrieved 1/10/2021 from https://www.ncbi.nlm.nih.gov/pmc/articles/PMC7357312/"
   ]
  },
  {
   "cell_type": "code",
   "execution_count": null,
   "id": "44010c67",
   "metadata": {},
   "outputs": [],
   "source": []
  }
 ],
 "metadata": {
  "kernelspec": {
   "display_name": "Python 3",
   "language": "python",
   "name": "python3"
  },
  "language_info": {
   "codemirror_mode": {
    "name": "ipython",
    "version": 3
   },
   "file_extension": ".py",
   "mimetype": "text/x-python",
   "name": "python",
   "nbconvert_exporter": "python",
   "pygments_lexer": "ipython3",
   "version": "3.8.8"
  }
 },
 "nbformat": 4,
 "nbformat_minor": 5
}
